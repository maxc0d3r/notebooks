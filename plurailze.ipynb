{
  "nbformat": 4,
  "nbformat_minor": 0,
  "metadata": {
    "colab": {
      "name": "plurailze.ipynb",
      "version": "0.3.2",
      "provenance": [],
      "collapsed_sections": [],
      "include_colab_link": true
    },
    "kernelspec": {
      "name": "python3",
      "display_name": "Python 3"
    }
  },
  "cells": [
    {
      "cell_type": "markdown",
      "metadata": {
        "id": "view-in-github",
        "colab_type": "text"
      },
      "source": [
        "<a href=\"https://colab.research.google.com/github/maxc0d3r/notebooks/blob/master/plurailze.ipynb\" target=\"_parent\"><img src=\"https://colab.research.google.com/assets/colab-badge.svg\" alt=\"Open In Colab\"/></a>"
      ]
    },
    {
      "metadata": {
        "id": "bqFSeAYbxteD",
        "colab_type": "code",
        "colab": {}
      },
      "cell_type": "code",
      "source": [
        "!sudo apt-get install libmariadbclient-dev"
      ],
      "execution_count": 0,
      "outputs": []
    },
    {
      "metadata": {
        "id": "YmOZCtlByBZj",
        "colab_type": "code",
        "colab": {}
      },
      "cell_type": "code",
      "source": [
        "!pip install pattern"
      ],
      "execution_count": 0,
      "outputs": []
    },
    {
      "metadata": {
        "id": "gM3EroQIzwnZ",
        "colab_type": "code",
        "colab": {
          "base_uri": "https://localhost:8080/",
          "height": 105
        },
        "outputId": "8cc9b03c-93b4-43bd-de2d-842df6cd8e3b"
      },
      "cell_type": "code",
      "source": [
        "from pattern.en import conjugate\n",
        "from pattern.en import pluralize\n",
        "import inflect\n",
        "import spacy \n",
        "import sys\n",
        "\n",
        "nlp = spacy.load('en')  \n",
        "inflect = inflect.engine()\n",
        "\n",
        "string = \"If you're ready to overcome overeating once and for all, I urge you to sign up for my Addressing Overeating Focus Group. By taking part in my [title], I'll help you take steps toward finding the right lifestyle changes and habits that work for you, so that you can stay healthy and happy, despite your diagnosis. I Can't Wait to Get Started With You\"\n",
        "\n",
        "doc = nlp(string)\n",
        "\n",
        "fstring = []\n",
        "for idx, token in enumerate(doc):                    \n",
        "  if (token.tag_ == 'PRP' or token.tag_ == 'PRP$') and (not inflect.singular_noun(token.text)):\n",
        "    neighbour = token.nbor()\n",
        "    if neighbour.tag_ != 'VBZ':\n",
        "      to_append = pluralize(token.text)\n",
        "    else:\n",
        "      to_append = token.text\n",
        "  elif token.tag_ == 'VBP':\n",
        "    to_append = conjugate(token.text,'1pl')\n",
        "    if \"'\" in token.text:\n",
        "      to_append = ' ' + to_append \n",
        "  else:\n",
        "    to_append = token.text\n",
        "  \n",
        "  if token.is_sent_start or idx == 0:\n",
        "    to_append = to_append.capitalize()\n",
        "\n",
        "  fstring.append(to_append)\n",
        "\n",
        "  if token.whitespace_:\n",
        "    fstring.append(token.whitespace_) \n",
        "\n",
        "\n",
        "print(\"\\n\\n\")\n",
        "print(''.join(fstring))"
      ],
      "execution_count": 8,
      "outputs": [
        {
          "output_type": "stream",
          "text": [
            "\n",
            "\n",
            "\n",
            "If you are ready to overcome overeating once and for all, we urge you to sign up for our Addressing Overeating Focus Group. By taking part in our [title], we'll help you take steps toward finding the right lifestyle changes and habits that work for you, so that you can stay healthy and happy, despite your diagnosis. We Can't Wait to Get Started With You\n"
          ],
          "name": "stdout"
        }
      ]
    }
  ]
}